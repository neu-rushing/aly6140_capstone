{
 "cells": [
  {
   "cell_type": "code",
   "execution_count": 1,
   "id": "f0c465ac",
   "metadata": {},
   "outputs": [
    {
     "name": "stdout",
     "output_type": "stream",
     "text": [
      "pygame 2.5.2 (SDL 2.28.3, Python 3.11.5)\n",
      "Hello from the pygame community. https://www.pygame.org/contribute.html\n"
     ]
    }
   ],
   "source": [
    "#import of nec lib\n",
    "import pandas as pd\n",
    "import random\n",
    "import time\n",
    "import pygame\n",
    "import sqlite3\n",
    "    "
   ]
  },
  {
   "cell_type": "code",
   "execution_count": 2,
   "id": "c1d75195",
   "metadata": {},
   "outputs": [],
   "source": [
    "#initialising pygame for sound playback\n",
    "pygame.mixer.init()\n",
    "\n",
    "#automatically plays sound if user scores correctly\n",
    "correct_sound = pygame.mixer.Sound(\"correct.mp3\")\n",
    "\n",
    "#automatically plays sound if user scores incorrectly\n",
    "incorrect_sound = pygame.mixer.Sound(\"incorrect.mp3\")"
   ]
  },
  {
   "cell_type": "code",
   "execution_count": 3,
   "id": "bf5393b5",
   "metadata": {},
   "outputs": [],
   "source": [
    "#Counter\n"
   ]
  },
  {
   "cell_type": "code",
   "execution_count": 4,
   "id": "c4186a11",
   "metadata": {},
   "outputs": [],
   "source": [
    "#Question Mgt db\n",
    "# Defining a list of questions and corresponding answers\n",
    "questions = [\n",
    "    (\"What is the capital of France?\", \"Paris\"),\n",
    "    (\"What is the largest planet in our solar system?\", \"Jupiter\"),\n",
    "    (\"Who is the author of the Harry Potter series?\", \"J.K. Rowling\"),\n",
    "    (\"What is the chemical symbol for gold?\", \"Au\"),\n",
    "    (\"What is the name of the first artificial satellite launched into space?\", \"Sputnik\"),\n",
    "    (\"Which planet is known as the Red Planet?\", \"Mars\"),\n",
    "    (\"Which gas do plants absorb from the atmosphere?\", \"Carbon Dioxide\"),\n",
    "    (\"What is the largest mammal in the world?\",\"Blue Whale \"),\n",
    "    (\"What is the largest ocean on Earth?\",\"Pacific Ocean\"),\n",
    "    (\"In which year did the Titanic sink?\",\"1912\"),\n",
    "    (\"In which year was Northeastern University founded?\", \"1898\"),\n",
    "    (\"What is the smallest prime number?\", \"2\"),\n",
    "    (\"Which element has the atomic number 1?\", \"Hydrogen\"),\n",
    "    (\"What is the largest species of shark?\",\"Whale Shark\"),\n",
    "    (\"What is the chemical symbol for iron?\", \"Fe\"),\n",
    "    (\"What is the largest country by land area?\", \"Russia\"),\n",
    "    (\"In which year did the first human walk on the moon?\",\"1969\"),\n",
    "    (\"Which gas is most abundant in the Earth\\'s atmosphere?\", \"Nitrogen\"),\n",
    "    (\"What is the largest organ in the human body?\", \"Skin\"),\n",
    "    (\"Which gas do humans breathe out when they exhale?\",\"Carbon dioxide\"),\n",
    "    (\"What is the chemical symbol for water?\",\"H20\"),\n",
    "    (\"Which planet is known as the Morning Star or Evening Star?\",\"Venus\"),\n",
    "    (\"Who wrote the play Romeo and Juliet?\",\"William Shakespeare\"),\n",
    "    (\"Which state in America was Northeastern Univeristy founded?\", \"Massachusetts\"),\n",
    "    (\"Who is the current president of the Northeasern University?\", \"Joesph E. Aoun\")\n",
    "    \n",
    "]"
   ]
  },
  {
   "cell_type": "code",
   "execution_count": 5,
   "id": "c866dab4",
   "metadata": {},
   "outputs": [],
   "source": [
    "#User registry \n",
    "def register_user():\n",
    "    username = input(\"Enter your username: \")\n",
    "    password = input(\"Enter your password: \")\n",
    "\n",
    "    unique_username = set()\n",
    "    if username in unique_username:\n",
    "        print(\"Sorry this unique username already exist.Please try again\")\n",
    "    else:\n",
    "        print(\"Success! username is unique\")\n",
    "    # Store the user infomation\n",
    "    print(f\"User {username} registered with password {password}\")\n",
    "\n"
   ]
  },
  {
   "cell_type": "code",
   "execution_count": 6,
   "id": "e127bf6d",
   "metadata": {},
   "outputs": [],
   "source": [
    "#update of leaderboards\n",
    "def update_leaderboard(username, score):\n",
    "    # Open the leaderboard file in append \n",
    "    with open(\"leaderboard.txt\", \"a\") as leaderboard_file:\n",
    "        leaderboard_file.write(f\"{username}: {score}\\n\")\n",
    "\n"
   ]
  },
  {
   "cell_type": "code",
   "execution_count": 7,
   "id": "688fce6e",
   "metadata": {},
   "outputs": [],
   "source": [
    "#displaying leaderboard\n",
    "def display_leaderboard():\n",
    "    # Reading the leaderboard file and sort the entries by score (descending order)\n",
    "    \n",
    "    with open(\"leaderboard.txt\", \"r\") as leaderboard_file:\n",
    "        leaderboard_entries = leaderboard_file.readlines()\n",
    "\n",
    "        #sorting list of str and int& scores value taken from entry\n",
    "    leaderboard_entries.sort(key=lambda entry: int(entry.split(\":\")[1]), reverse=True)\n",
    "\n",
    "    # Displaying the top 10 scores\n",
    "    print(\"\\nLeaderboard:\")\n",
    "    for entry in leaderboard_entries[:10]:\n",
    "        print(entry.strip())\n"
   ]
  },
  {
   "cell_type": "code",
   "execution_count": 8,
   "id": "e55cfebc",
   "metadata": {},
   "outputs": [],
   "source": [
    "logo = \"\"\"\n",
    " _______    _       _       \n",
    "(_______)  (_)     (_)      \n",
    "    _  ____ _ _   _ _ _____ \n",
    "   | |/ ___) | | | | (____ |\n",
    "   | | |   | |\\ V /| / ___ |\n",
    "   |_|_|   |_| \\_/ |_\\_____|\n",
    "\"\"\""
   ]
  },
  {
   "cell_type": "code",
   "execution_count": 9,
   "id": "652dddcd",
   "metadata": {},
   "outputs": [
    {
     "name": "stdout",
     "output_type": "stream",
     "text": [
      "\n",
      " _______    _       _       \n",
      "(_______)  (_)     (_)      \n",
      "    _  ____ _ _   _ _ _____ \n",
      "   | |/ ___) | | | | (____ |\n",
      "   | | |   | |\\ V /| / ___ |\n",
      "   |_|_|   |_| \\_/ |_\\_____|\n",
      "\n"
     ]
    }
   ],
   "source": [
    "print(logo)"
   ]
  },
  {
   "cell_type": "code",
   "execution_count": 10,
   "id": "e0fdd1ba",
   "metadata": {},
   "outputs": [],
   "source": [
    "#Play quiz\n",
    "\n",
    "def play_quiz():\n",
    "    \n",
    "    # Initialize the score and question counter\n",
    "    score = 0\n",
    "    question_num = 0\n",
    "\n",
    "    # Start the quiz\n",
    "    print(\"\\nWelcome to the Trivia Quiz\",username,\",let's experience some trivia greatness!\")\n",
    "\n",
    "    # Shuffle the questions to randomize the order\n",
    "    random.shuffle(questions)\n",
    "\n",
    "    # Loop through each question\n",
    "    for question, answer in questions[:20]:\n",
    "        question_num += 1\n",
    "        print(f\"\\nQuestion {question_num}: {question}\")\n",
    "\n",
    "        # Get the user's answer\n",
    "        user_answer = input(\"Your answer: \").lower()\n",
    "       \n",
    "        # Check if the answer is correct\n",
    "        if user_answer == answer.lower():\n",
    "            print(\"Correct!\")\n",
    "            score += 1\n",
    "            correct_sound.play()\n",
    "        else:\n",
    "            print(\"Incorrect. The correct answer is\", answer)\n",
    "            incorrect_sound.play()\n",
    "\n",
    "    # Display the final score\n",
    "    print(\"\\nYour final score is:\", score)\n",
    "\n",
    "    # Update the leaderboard\n",
    "    update_leaderboard(username, score)"
   ]
  },
  {
   "cell_type": "code",
   "execution_count": null,
   "id": "4bae85b4",
   "metadata": {},
   "outputs": [],
   "source": []
  },
  {
   "cell_type": "code",
   "execution_count": null,
   "id": "2d2ad51d",
   "metadata": {},
   "outputs": [],
   "source": [
    "#__Main__\n",
    "while True:\n",
    "    print(\"\\nMain Menu\")\n",
    "    print(\"1. Register\")\n",
    "    print(\"2. Play Trivia\")\n",
    "    print(\"3. Display Leaderboard\")\n",
    "    print(\"4. Exit\")\n",
    "\n",
    "    choice = input(\"\\nEnter your choice: \")\n",
    "\n",
    "    if choice == \"1\":\n",
    "        register_user()\n",
    "    \n",
    "    elif choice == \"2\":\n",
    "        username = input(\"Enter your unique username: \")\n",
    "        play_quiz()\n",
    "    \n",
    "    elif choice == \"3\":\n",
    "        display_leaderboard()\n",
    "   \n",
    "   \n",
    "    elif choice == \"4\":\n",
    "        break\n",
    "    else:\n",
    "        print(\"Invalid choice. Kindly enter a valid option.\")"
   ]
  },
  {
   "cell_type": "code",
   "execution_count": null,
   "id": "a8782e62",
   "metadata": {},
   "outputs": [],
   "source": []
  },
  {
   "cell_type": "code",
   "execution_count": null,
   "id": "ae5d3d62",
   "metadata": {},
   "outputs": [],
   "source": []
  }
 ],
 "metadata": {
  "kernelspec": {
   "display_name": "Python 3 (ipykernel)",
   "language": "python",
   "name": "python3"
  },
  "language_info": {
   "codemirror_mode": {
    "name": "ipython",
    "version": 3
   },
   "file_extension": ".py",
   "mimetype": "text/x-python",
   "name": "python",
   "nbconvert_exporter": "python",
   "pygments_lexer": "ipython3",
   "version": "3.11.5"
  }
 },
 "nbformat": 4,
 "nbformat_minor": 5
}
