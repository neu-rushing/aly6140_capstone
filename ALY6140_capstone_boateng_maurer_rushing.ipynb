{
 "cells": [
  {
   "cell_type": "markdown",
   "id": "5c31a782",
   "metadata": {},
   "source": [
    "<h1><strong>ALY 6140 Final Project : Trivia Game</strong></h1>\n",
    "Sam Boateng, Claire Maurer, Hunter Rushing"
   ]
  },
  {
   "cell_type": "code",
   "execution_count": 1,
   "id": "01516dc9",
   "metadata": {},
   "outputs": [],
   "source": [
    "#import packages\n",
    "import pandas as pd\n",
    "import sqlite3"
   ]
  },
  {
   "cell_type": "code",
   "execution_count": 3,
   "id": "412f95a0",
   "metadata": {},
   "outputs": [],
   "source": [
    "# Initialize the set to store unique usernames\n",
    "unique_usernames = set()"
   ]
  },
  {
   "cell_type": "code",
   "execution_count": 4,
   "id": "ce634ad3",
   "metadata": {},
   "outputs": [],
   "source": [
    "def registration():\n",
    "    \n",
    "    # Get the username from the user\n",
    "    username = input(\"Please choose a unique username: \")\n",
    "\n",
    "    # Check if the username is already in the set\n",
    "    if username in unique_usernames:\n",
    "        print(\"Duplicate username, please try again\")\n",
    "    else:\n",
    "        # Add the username to the set if it's unique\n",
    "        unique_usernames.add(username)\n",
    "        print(\"Success! Username is unique.\")"
   ]
  },
  {
   "cell_type": "code",
   "execution_count": 10,
   "id": "70051a02",
   "metadata": {},
   "outputs": [],
   "source": [
    "def view_leaderboard():\n",
    "    print(\"Needs to be Developed\")"
   ]
  },
  {
   "cell_type": "code",
   "execution_count": 11,
   "id": "92256960",
   "metadata": {},
   "outputs": [],
   "source": [
    "def play_trivia():\n",
    "    print(\"Needs to be Developed\")"
   ]
  },
  {
   "cell_type": "code",
   "execution_count": 5,
   "id": "d235f044",
   "metadata": {},
   "outputs": [],
   "source": [
    "logo = \"\"\"\n",
    " _______    _       _       \n",
    "(_______)  (_)     (_)      \n",
    "    _  ____ _ _   _ _ _____ \n",
    "   | |/ ___) | | | | (____ |\n",
    "   | | |   | |\\ V /| / ___ |\n",
    "   |_|_|   |_| \\_/ |_\\_____|\n",
    "\"\"\""
   ]
  },
  {
   "cell_type": "code",
   "execution_count": 14,
   "id": "47f54e21",
   "metadata": {},
   "outputs": [
    {
     "name": "stdout",
     "output_type": "stream",
     "text": [
      "\n",
      " _______    _       _       \n",
      "(_______)  (_)     (_)      \n",
      "    _  ____ _ _   _ _ _____ \n",
      "   | |/ ___) | | | | (____ |\n",
      "   | | |   | |\\ V /| / ___ |\n",
      "   |_|_|   |_| \\_/ |_\\_____|\n",
      "\n",
      "1. Registration\n",
      "2. View Leaderboard\n",
      "3. Play Trivia!\n",
      "Enter the number of the option you want to run: 1\n",
      "Please choose a unique username: hunterr\n",
      "Success! Username is unique.\n"
     ]
    }
   ],
   "source": [
    "print(logo)\n",
    "print(\"1. Registration\")\n",
    "print(\"2. View Leaderboard\")\n",
    "print(\"3. Play Trivia!\")\n",
    "\n",
    "user_choice = input(\"Enter the number of the option you want to run: \")\n",
    "\n",
    "if user_choice == '1':\n",
    "    registration()\n",
    "elif user_choice == '2':\n",
    "    view_leaderboard()\n",
    "elif user_choice == '3':\n",
    "    play_trivia()\n",
    "else:\n",
    "    print(\"Invalid choice. Please enter a valid option (1, 2, or 3).\")"
   ]
  },
  {
   "cell_type": "code",
   "execution_count": null,
   "id": "8c6031b1",
   "metadata": {},
   "outputs": [],
   "source": [
    "## Try and figure out how to delete text above"
   ]
  }
 ],
 "metadata": {
  "kernelspec": {
   "display_name": "Python 3 (ipykernel)",
   "language": "python",
   "name": "python3"
  },
  "language_info": {
   "codemirror_mode": {
    "name": "ipython",
    "version": 3
   },
   "file_extension": ".py",
   "mimetype": "text/x-python",
   "name": "python",
   "nbconvert_exporter": "python",
   "pygments_lexer": "ipython3",
   "version": "3.11.4"
  }
 },
 "nbformat": 4,
 "nbformat_minor": 5
}
