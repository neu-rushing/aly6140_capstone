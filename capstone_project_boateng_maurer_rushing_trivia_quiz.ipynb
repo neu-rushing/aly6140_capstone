{
  "cells": [
    {
      "cell_type": "code",
      "execution_count": null,
      "id": "f0c465ac",
      "metadata": {
        "id": "f0c465ac",
        "outputId": "d5b832b5-3129-4f99-87e6-78a3f00dda8b"
      },
      "outputs": [
        {
          "name": "stdout",
          "output_type": "stream",
          "text": [
            "pygame 2.5.2 (SDL 2.28.3, Python 3.11.5)\n",
            "Hello from the pygame community. https://www.pygame.org/contribute.html\n"
          ]
        }
      ],
      "source": [
        "#import of nec lib\n",
        "import pandas as pd\n",
        "import random\n",
        "import time\n",
        "import pygame\n",
        "import sqlite3\n",
        ""
      ]
    },
    {
      "cell_type": "code",
      "execution_count": null,
      "id": "c1d75195",
      "metadata": {
        "id": "c1d75195"
      },
      "outputs": [],
      "source": [
        "#initialising pygame for sound playback\n",
        "pygame.mixer.init()\n",
        "\n",
        "#automatically plays sound if user scores correctly\n",
        "correct_sound = pygame.mixer.Sound(\"correct.mp3\")\n",
        "\n",
        "#automatically plays sound if user scores incorrectly\n",
        "incorrect_sound = pygame.mixer.Sound(\"incorrect.mp3\")"
      ]
    },
    {
      "cell_type": "code",
      "execution_count": null,
      "id": "bf5393b5",
      "metadata": {
        "id": "bf5393b5"
      },
      "outputs": [],
      "source": [
        "#Counter\n"
      ]
    },
    {
      "cell_type": "code",
      "execution_count": null,
      "id": "c4186a11",
      "metadata": {
        "id": "c4186a11"
      },
      "outputs": [],
      "source": [
        "\n",
        "# questions database (currently 22 Qs)\n",
        "questions = [\n",
        "    {\n",
        "        'question': 'What is the capital of France?',\n",
        "        'options': ['London', 'Berlin', 'Paris', 'Madrid'],\n",
        "        'answer': 'Paris'\n",
        "    },\n",
        "    {\n",
        "        'question': 'Which planet is known as the Red Planet?',\n",
        "        'options': ['Venus', 'Mars', 'Jupiter', 'Saturn'],\n",
        "        'answer': 'Mars'\n",
        "    },\n",
        "      {\n",
        "        'question': 'What is the largest planet in our solar system?',\n",
        "        'options': ['Mars', 'Jupiter', 'Earth', 'Saturn'],\n",
        "        'answer': 'Jupiter'\n",
        "    },\n",
        "    {\n",
        "        'question': 'Which gas do plants absorb from the atmosphere?',\n",
        "        'options': ['Oxygen', 'Carbon Dioxide', 'Nitrogen', 'Hydrogen'],\n",
        "        'answer': 'Carbon Dioxide'\n",
        "    },\n",
        "    {\n",
        "        'question': 'Who wrote the play \"Romeo and Juliet\"?',\n",
        "        'options': ['Charles Dickens', 'William Shakespeare', 'Jane Austen', 'F. Scott Fitzgerald'],\n",
        "        'answer': 'William Shakespeare'\n",
        "    },\n",
        "    {\n",
        "        'question': 'What is the chemical symbol for gold?',\n",
        "        'options': ['Au', 'Ag', 'Fe', 'Cu'],\n",
        "        'answer': 'Au'\n",
        "    },\n",
        "    {\n",
        "        'question': 'Which planet is known as the \"Morning Star\" or \"Evening Star\"?',\n",
        "        'options': ['Mars', 'Venus', 'Mercury', 'Uranus'],\n",
        "        'answer': 'Venus'\n",
        "    },\n",
        "    {\n",
        "        'question': 'What is the largest mammal in the world?',\n",
        "        'options': ['African Elephant', 'Blue Whale', 'Giraffe', 'Hippopotamus'],\n",
        "        'answer': 'Blue Whale'\n",
        "    },\n",
        "    {\n",
        "        'question': 'What is the largest ocean on Earth?',\n",
        "        'options': ['Atlantic Ocean', 'Indian Ocean', 'Arctic Ocean', 'Pacific Ocean'],\n",
        "        'answer': 'Pacific Ocean'\n",
        "    },\n",
        "    {\n",
        "        'question': 'In which year did the Titanic sink?',\n",
        "        'options': ['1910', '1912', '1915', '1918'],\n",
        "        'answer': '1912'\n",
        "    },\n",
        "    {\n",
        "        'question': 'What is the chemical symbol for water?',\n",
        "        'options': ['H2O', 'CO2', 'O2', 'NaCl'],\n",
        "        'answer': 'H2O'\n",
        "    },\n",
        "    {\n",
        "        'question': 'Which gas do humans breathe out when they exhale?',\n",
        "        'options': ['Oxygen', 'Carbon Dioxide', 'Nitrogen', 'Hydrogen'],\n",
        "        'answer': 'Carbon Dioxide'\n",
        "    },\n",
        "    {\n",
        "        'question': 'What is the largest organ in the human body?',\n",
        "        'options': ['Heart', 'Brain', 'Liver', 'Skin'],\n",
        "        'answer': 'Skin'\n",
        "    },\n",
        "    {\n",
        "        'question': 'Which gas is most abundant in the Earth\\'s atmosphere?',\n",
        "        'options': ['Oxygen', 'Carbon Dioxide', 'Nitrogen', 'Hydrogen'],\n",
        "        'answer': 'Nitrogen'\n",
        "    },\n",
        "    {\n",
        "        'question': 'In which year did the first human walk on the moon?',\n",
        "        'options': ['1969', '1979', '1989', '1999'],\n",
        "        'answer': '1969'\n",
        "    },\n",
        "    {\n",
        "        'question': 'What is the largest country by land area?',\n",
        "        'options': ['China', 'India', 'Russia', 'Canada'],\n",
        "        'answer': 'Russia'\n",
        "    },\n",
        "    {\n",
        "        'question': 'Which gas do you inhale when you take a deep breath?',\n",
        "        'options': ['Oxygen', 'Carbon Dioxide', 'Nitrogen', 'Hydrogen'],\n",
        "        'answer': 'Oxygen'\n",
        "    },\n",
        "    {\n",
        "        'question': 'What is the chemical symbol for iron?',\n",
        "        'options': ['Fe', 'Ag', 'Au', 'Cu'],\n",
        "        'answer': 'Fe'\n",
        "    },\n",
        "    {\n",
        "        'question': 'Which planet is known as the \"Red Planet\"?',\n",
        "        'options': ['Mars', 'Venus', 'Mercury', 'Uranus'],\n",
        "        'answer': 'Mars'\n",
        "    },\n",
        "    {\n",
        "        'question': 'What is the smallest prime number?',\n",
        "        'options': ['1', '2', '3', '5'],\n",
        "        'answer': '2'\n",
        "    },\n",
        "    {\n",
        "        'question': 'Which element has the atomic number 1?',\n",
        "        'options': ['Oxygen', 'Carbon', 'Hydrogen', 'Helium'],\n",
        "        'answer': 'Hydrogen'\n",
        "    },\n",
        "    {\n",
        "        'question': 'What is the largest species of shark?',\n",
        "        'options': ['Great White Shark', 'Hammerhead Shark', 'Whale Shark', 'Tiger Shark'],\n",
        "        'answer': 'Whale Shark'\n",
        "    }\n",
        "]\n"
      ]
    },
    {
      "cell_type": "code",
      "execution_count": null,
      "id": "c866dab4",
      "metadata": {
        "id": "c866dab4"
      },
      "outputs": [],
      "source": [
        "#User registry\n",
        "def register_user():\n",
        "    username = input(\"Enter your username: \")\n",
        "    password = input(\"Enter your password: \")\n",
        "\n",
        "    unique_username = set()\n",
        "    if username in unique_username:\n",
        "        print(\"Sorry this unique username already exist.Please try again\")\n",
        "    else:\n",
        "        print(\"Success! username is unique\")\n",
        "    # Store the user infomation\n",
        "    print(f\"User {username} registered with password {password}\")\n",
        "\n"
      ]
    },
    {
      "cell_type": "code",
      "execution_count": null,
      "id": "e127bf6d",
      "metadata": {
        "id": "e127bf6d"
      },
      "outputs": [],
      "source": [
        "#update of leaderboards\n",
        "def update_leaderboard(username, score):\n",
        "    # Open the leaderboard file in append\n",
        "    with open(\"leaderboard.txt\", \"a\") as leaderboard_file:\n",
        "        leaderboard_file.write(f\"{username}: {score}\\n\")\n",
        "\n"
      ]
    },
    {
      "cell_type": "code",
      "execution_count": null,
      "id": "688fce6e",
      "metadata": {
        "id": "688fce6e"
      },
      "outputs": [],
      "source": [
        "#displaying leaderboard\n",
        "def display_leaderboard():\n",
        "    # Reading the leaderboard file and sort the entries by score (descending order)\n",
        "\n",
        "    with open(\"leaderboard.txt\", \"r\") as leaderboard_file:\n",
        "        leaderboard_entries = leaderboard_file.readlines()\n",
        "\n",
        "        #sorting list of str and int& scores value taken from entry\n",
        "    leaderboard_entries.sort(key=lambda entry: int(entry.split(\":\")[1]), reverse=True)\n",
        "\n",
        "    # Displaying the top 10 scores\n",
        "    print(\"\\nLeaderboard:\")\n",
        "    for entry in leaderboard_entries[:10]:\n",
        "        print(entry.strip())\n"
      ]
    },
    {
      "cell_type": "code",
      "execution_count": null,
      "id": "e55cfebc",
      "metadata": {
        "id": "e55cfebc"
      },
      "outputs": [],
      "source": [
        "logo = \"\"\"\n",
        " _______    _       _\n",
        "(_______)  (_)     (_)\n",
        "    _  ____ _ _   _ _ _____\n",
        "   | |/ ___) | | | | (____ |\n",
        "   | | |   | |\\ V /| / ___ |\n",
        "   |_|_|   |_| \\_/ |_\\_____|\n",
        "\"\"\""
      ]
    },
    {
      "cell_type": "code",
      "execution_count": null,
      "id": "652dddcd",
      "metadata": {
        "id": "652dddcd",
        "outputId": "85163348-c452-4893-fdeb-5ae8ef7d9ada"
      },
      "outputs": [
        {
          "name": "stdout",
          "output_type": "stream",
          "text": [
            "\n",
            " _______    _       _       \n",
            "(_______)  (_)     (_)      \n",
            "    _  ____ _ _   _ _ _____ \n",
            "   | |/ ___) | | | | (____ |\n",
            "   | | |   | |\\ V /| / ___ |\n",
            "   |_|_|   |_| \\_/ |_\\_____|\n",
            "\n"
          ]
        }
      ],
      "source": [
        "print(logo)"
      ]
    },
    {
      "cell_type": "code",
      "execution_count": null,
      "id": "e0fdd1ba",
      "metadata": {
        "id": "e0fdd1ba"
      },
      "outputs": [],
      "source": [
        "#Play quiz\n",
        "\n",
        "def play_quiz():\n",
        "\n",
        "    # Initialize the score and question counter\n",
        "    score = 0\n",
        "    question_num = 0\n",
        "\n",
        "    # Start the quiz\n",
        "    print(\"\\nWelcome to the Trivia Quiz\",username,\",let's experience some trivia greatness!\")\n",
        "\n",
        "    # Shuffle the questions to randomize the order\n",
        "    random.shuffle(questions)\n",
        "\n",
        "    # Loop through each question\n",
        "    for question, answer in questions[:20]:\n",
        "        question_num += 1\n",
        "        print(f\"\\nQuestion {question_num}: {question}\")\n",
        "\n",
        "        # Get the user's answer\n",
        "        user_answer = input(\"Your answer: \").lower()\n",
        "\n",
        "        # Check if the answer is correct\n",
        "        if user_answer == answer.lower():\n",
        "            print(\"Correct!\")\n",
        "            score += 1\n",
        "            correct_sound.play()\n",
        "        else:\n",
        "            print(\"Incorrect. The correct answer is\", answer)\n",
        "            incorrect_sound.play()\n",
        "\n",
        "    # Display the final score\n",
        "    print(\"\\nYour final score is:\", score)\n",
        "\n",
        "    # Update the leaderboard\n",
        "    update_leaderboard(username, score)"
      ]
    },
    {
      "cell_type": "code",
      "execution_count": null,
      "id": "4bae85b4",
      "metadata": {
        "id": "4bae85b4"
      },
      "outputs": [],
      "source": []
    },
    {
      "cell_type": "code",
      "execution_count": null,
      "id": "2d2ad51d",
      "metadata": {
        "id": "2d2ad51d"
      },
      "outputs": [],
      "source": [
        "#__Main__\n",
        "while True:\n",
        "    print(\"\\nMain Menu\")\n",
        "    print(\"1. Register\")\n",
        "    print(\"2. Play Trivia\")\n",
        "    print(\"3. Display Leaderboard\")\n",
        "    print(\"4. Exit\")\n",
        "\n",
        "    choice = input(\"\\nEnter your choice: \")\n",
        "\n",
        "    if choice == \"1\":\n",
        "        register_user()\n",
        "\n",
        "    elif choice == \"2\":\n",
        "        username = input(\"Enter your unique username: \")\n",
        "        play_quiz()\n",
        "\n",
        "    elif choice == \"3\":\n",
        "        display_leaderboard()\n",
        "\n",
        "\n",
        "    elif choice == \"4\":\n",
        "        break\n",
        "    else:\n",
        "        print(\"Invalid choice. Kindly enter a valid option.\")"
      ]
    },
    {
      "cell_type": "code",
      "execution_count": null,
      "id": "a8782e62",
      "metadata": {
        "id": "a8782e62"
      },
      "outputs": [],
      "source": []
    },
    {
      "cell_type": "code",
      "execution_count": null,
      "id": "ae5d3d62",
      "metadata": {
        "id": "ae5d3d62"
      },
      "outputs": [],
      "source": []
    }
  ],
  "metadata": {
    "kernelspec": {
      "display_name": "Python 3 (ipykernel)",
      "language": "python",
      "name": "python3"
    },
    "language_info": {
      "codemirror_mode": {
        "name": "ipython",
        "version": 3
      },
      "file_extension": ".py",
      "mimetype": "text/x-python",
      "name": "python",
      "nbconvert_exporter": "python",
      "pygments_lexer": "ipython3",
      "version": "3.11.5"
    },
    "colab": {
      "provenance": []
    }
  },
  "nbformat": 4,
  "nbformat_minor": 5
}